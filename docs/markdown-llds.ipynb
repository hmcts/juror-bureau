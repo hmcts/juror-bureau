{
 "cells": [
  {
   "cell_type": "code",
   "execution_count": 1,
   "metadata": {},
   "outputs": [],
   "source": [
    "import os\n",
    "import re"
   ]
  },
  {
   "cell_type": "code",
   "execution_count": 2,
   "metadata": {},
   "outputs": [],
   "source": [
    "def makeContent(header, count):\n",
    "  content = re.sub(r'# (.).0', '\\\\1.'+str(count), header)[0:-1]\n",
    "  anchor = content.replace(' ', '-').lower()\n",
    "  return '* ['+content+'](#'+anchor+')\\n'"
   ]
  },
  {
   "cell_type": "code",
   "execution_count": 3,
   "metadata": {},
   "outputs": [
    {
     "name": "stdout",
     "output_type": "stream",
     "text": [
      "18 markdown(s) found\n"
     ]
    }
   ],
   "source": [
    "markdowns = []\n",
    "\n",
    "for root, dirs, files in os.walk('../server'):\n",
    "  for file in files:\n",
    "    if file.find('.md') > -1:\n",
    "      markdowns.append(root + '/' + file)\n",
    "\n",
    "print(str(len(markdowns)) + ' markdown(s) found')"
   ]
  },
  {
   "cell_type": "code",
   "execution_count": 4,
   "metadata": {},
   "outputs": [
    {
     "name": "stdout",
     "output_type": "stream",
     "text": [
      "sorted files\n"
     ]
    }
   ],
   "source": [
    "section2 = []\n",
    "section3 = []\n",
    "section4 = []\n",
    "\n",
    "for file in markdowns:\n",
    "  with open(file, 'r') as doc:\n",
    "    if doc.readline().find('# 2') > -1:\n",
    "      section2.append(file)\n",
    "    elif doc.readline().find('# 3') > -1:\n",
    "      section3.append(file)\n",
    "    elif doc.readline().find('# 4') > -1:\n",
    "      section4.append(file)\n",
    "\n",
    "print('sorted files')"
   ]
  },
  {
   "cell_type": "code",
   "execution_count": 5,
   "metadata": {},
   "outputs": [
    {
     "name": "stdout",
     "output_type": "stream",
     "text": [
      "1 section 2 files processed\n",
      "14 section 3 files written\n",
      "0 section 4 files written\n",
      "927 lines prepared\n"
     ]
    }
   ],
   "source": [
    "contents = []\n",
    "data = []\n",
    "\n",
    "with open('_section2_head.md', 'r') as head:\n",
    "  for line in head.readlines():\n",
    "    data.append(line)\n",
    "count = 0\n",
    "for page in section2:\n",
    "  with open(page, 'r') as file:\n",
    "    count += 1\n",
    "    for index, line in enumerate(file.readlines()):\n",
    "      if index == 0:\n",
    "        contents.append(makeContent(line, count))\n",
    "      data.append(line.replace('# 2.0', '# 2.'+str(count)))\n",
    "    data.append('\\n\\n')\n",
    "print(str(count) + ' section 2 files processed')\n",
    "\n",
    "contents.append('* [3.0 Process flows](#3.0-process-flows)\\n')\n",
    "\n",
    "data.append('\\n\\n')\n",
    "with open('_section3_head.md', 'r') as head:\n",
    "  for line in head.readlines():\n",
    "    data.append(line)\n",
    "count = 0\n",
    "for page in section3:\n",
    "  with open(page, 'r') as file:\n",
    "    count += 1\n",
    "    for index, line in enumerate(file.readlines()):\n",
    "      if index == 0:\n",
    "        contents.append(makeContent(line, count))\n",
    "      data.append(line.replace('# 3.0', '# 3.'+str(count)))\n",
    "    data.append('\\n\\n')\n",
    "print(str(count) + ' section 3 files written')\n",
    "\n",
    "contents.append('* [4.0 Helper functions](#4.0-helper-functions)\\n')\n",
    "\n",
    "data.append('\\n\\n')\n",
    "with open('_section4_head.md', 'r') as head:\n",
    "  for line in head.readlines():\n",
    "    data.append(line)\n",
    "count = 0\n",
    "for page in section4:\n",
    "  with open(page, 'r') as file:\n",
    "    count += 1\n",
    "    for index, line in enumerate(file.readlines()):\n",
    "      if index == 0:\n",
    "        contents.append(makeContent(line, count))\n",
    "      data.append(line.replace('# 4.0', '# 4.'+str(count)))\n",
    "    data.append('\\n\\n')\n",
    "print(str(count) + ' section 4 files written')\n",
    "\n",
    "print(str(len(data)) + ' lines prepared')"
   ]
  },
  {
   "cell_type": "code",
   "execution_count": 6,
   "metadata": {},
   "outputs": [
    {
     "name": "stdout",
     "output_type": "stream",
     "text": [
      "done\n"
     ]
    }
   ],
   "source": [
    "with open('document.md', 'w') as document:\n",
    "  with open('_document_head.md', 'r') as head:\n",
    "    document.writelines(head.readlines())\n",
    "  document.writelines(contents)\n",
    "  document.writelines(data)\n",
    "print(\"done\")"
   ]
  }
 ],
 "metadata": {
  "kernelspec": {
   "display_name": "Python 3",
   "language": "python",
   "name": "python3"
  },
  "language_info": {
   "codemirror_mode": {
    "name": "ipython",
    "version": 3
   },
   "file_extension": ".py",
   "mimetype": "text/x-python",
   "name": "python",
   "nbconvert_exporter": "python",
   "pygments_lexer": "ipython3",
   "version": "3.11.5"
  },
  "orig_nbformat": 4
 },
 "nbformat": 4,
 "nbformat_minor": 2
}
